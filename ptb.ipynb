{
 "cells": [
  {
   "cell_type": "markdown",
   "id": "e2c71518-89b7-4a98-9b4a-c568ed4640b8",
   "metadata": {},
   "source": [
    "# Preamble"
   ]
  },
  {
   "cell_type": "code",
   "execution_count": 1,
   "id": "a7904109-bc88-4e03-9317-1392a1d19b8b",
   "metadata": {},
   "outputs": [],
   "source": [
    "using LinearAlgebra, ForwardDiff"
   ]
  },
  {
   "cell_type": "code",
   "execution_count": 2,
   "id": "0fd358c8-6e1c-4a2c-a511-28c997b4bea8",
   "metadata": {},
   "outputs": [
    {
     "data": {
      "text/plain": [
       "10"
      ]
     },
     "execution_count": 2,
     "metadata": {},
     "output_type": "execute_result"
    }
   ],
   "source": [
    "Threads.nthreads()"
   ]
  },
  {
   "cell_type": "code",
   "execution_count": 14,
   "id": "c77ed7a0-fd7a-4611-ac66-34042d5aee71",
   "metadata": {},
   "outputs": [],
   "source": [
    "lambda = 0.01;\n",
    "xiG = 0;\n",
    "xig = 4089;\n",
    "alpha = (3e+4)^2/3;\n",
    "\n",
    "n = 5;\n",
    "xn = 4;"
   ]
  },
  {
   "cell_type": "code",
   "execution_count": 105,
   "id": "d84349f8-37c4-4e7c-a467-fe9662ae9dbc",
   "metadata": {},
   "outputs": [],
   "source": [
    "function metric(x)\n",
    "    metric = zeros(eltype(x), n, n)\n",
    "    \n",
    "    xr2 = sum([x[i]^2 for i=1:xn])\n",
    "    \n",
    "    for i=1:xn, j=1:xn\n",
    "        metric[i,j] = exp(-sqrt(2/3)*x[5])*(==(i,j) - 6*xiG^2*x[i]*x[j]/(1+xiG*xr2)) \n",
    "    end \n",
    "        \n",
    "    metric[n,n] = 1\n",
    "    \n",
    "    return metric\n",
    "end;\n",
    "\n",
    "function viel(x)\n",
    "    e,u = eigen(inv(metric(x)))\n",
    "    return u*Diagonal([sqrt(ee) for ee in e])*inv(u)\n",
    "end;\n",
    "\n",
    "function gijk(x)\n",
    "    metricdiff = ForwardDiff.jacobian(metric, x)\n",
    "    gijk = [metricdiff[(i-1)*5+j,k] for i=1:n, j=1:n, k=1:n]\n",
    "    return gijk\n",
    "end;\n",
    "\n",
    "function gijkl(x) \n",
    "    gijkl = zeros(eltype(x),n,n,n,n)\n",
    "    \n",
    "    for i=1:n, j=1:n\n",
    "        gij(x) = metric(x)[i,j]\n",
    "        gijhess = ForwardDiff.hessian(gij, x)\n",
    "        \n",
    "        for k=1:n, l=1:n\n",
    "            gijkl[i,j,k,l] = gijhess[k,l]\n",
    "        end;\n",
    "    end;\n",
    "\n",
    "    return gijkl\n",
    "end;\n",
    "\n",
    "function invgijk(x)\n",
    "    invmetric = inv(metric(x))\n",
    "    metricdiff = gijk(x)\n",
    "    \n",
    "    return [-invmetric[i,:]' * metricdiff[:,:,k] * invmetric[j,:] for i=1:n, j=1:n, k=1:n]\n",
    "end;\n",
    "\n",
    "function affine(x)\n",
    "    invmetric = inv(metric(x))\n",
    "    metricdiff = gijk(x)\n",
    "    \n",
    "    return [1/2*sum([invmetric[i,s]*(metricdiff[s,j,k] + metricdiff[s,k,j] - \n",
    "                    metricdiff[k,j,s]) for s=1:n]) for i=1:n, j=1:n, k=1:n]\n",
    "end;\n",
    "\n",
    "function Gammaijkl(x)\n",
    "    invmetric = inv(metric(x))\n",
    "    metricdiff = gijk(x)\n",
    "    invgdiff = invgijk(x)\n",
    "    ghess = gijkl(x)\n",
    "    \n",
    "    return [1/2*\n",
    "        sum([invgdiff[i,s,l] * (metricdiff[s,j,k] + metricdiff[s,k,j] - metricdiff[k,j,s]) +\n",
    "                invmetric[i,s]*(ghess[s,j,k,l] + ghess[s,k,j,l] - ghess[k,j,s,l]) \n",
    "                for s=1:n]) for i=1:n, j=1:n, k=1:n, l=1:n]\n",
    "end;\n",
    "    \n",
    "function riemann(x)\n",
    "    affinediff = Gammaijkl(x)\n",
    "    Gamma = affine(x)\n",
    "    \n",
    "    return [affinediff[i,j,l,k] - affinediff[i,j,k,l] +\n",
    "        sum([Gamma[s,j,l]*Gamma[i,k,s] - Gamma[s,j,k]*Gamma[i,l,s] for s=1:n]) \n",
    "        for i=1:n, j=1:n, k=1:n, l=1:n]\n",
    "end;\n",
    "\n",
    "function potU(x)\n",
    "    xr2 = sum([x[i]^2 for i=1:xn])\n",
    "    \n",
    "    return lambda/4*exp(-2*sqrt(2/3)*x[5])*xr2^2 + \n",
    "        1/4/alpha*(1-exp(-sqrt(2/3)*x[5])*(1+(xig+xiG)*xr2))^2\n",
    "end;\n",
    "\n",
    "Uprime(x) = ForwardDiff.gradient(potU,x);\n",
    "\n",
    "function Upp(x)\n",
    "    invmetric = inv(metric(x))\n",
    "    Gamma = affine(x)\n",
    "    Up = Uprime(x)\n",
    "    Uhess = ForwardDiff.hessian(potU,x)\n",
    "    \n",
    "    return invmetric * (Uhess - [sum([Gamma[k,i,j]*Up[k] for k=1:n]) for i=1:n, j=1:n])\n",
    "end;"
   ]
  },
  {
   "cell_type": "code",
   "execution_count": 106,
   "id": "0beafad5-4413-4faa-8900-bbb5730c0c3b",
   "metadata": {},
   "outputs": [
    {
     "data": {
      "text/plain": [
       "5×5 Matrix{Float64}:\n",
       "  0.0382661     0.00443449   0.00665174   0.00886899  -0.0407281\n",
       "  0.00443449    0.0449178    0.0133035    0.017738    -0.0814563\n",
       "  0.00665174    0.0133035    0.0560041    0.026607    -0.122184\n",
       "  0.00886899    0.017738     0.026607     0.0715248   -0.162913\n",
       " -0.000686902  -0.0013738   -0.00206071  -0.00274761   0.0112164"
      ]
     },
     "execution_count": 106,
     "metadata": {},
     "output_type": "execute_result"
    }
   ],
   "source": [
    "xs = [1.,2,3,4,5]\n",
    "Upp(xs)"
   ]
  },
  {
   "cell_type": "code",
   "execution_count": null,
   "id": "af37c1b5-dcf5-4bd6-97fc-057da1c95fcf",
   "metadata": {},
   "outputs": [],
   "source": []
  }
 ],
 "metadata": {
  "kernelspec": {
   "display_name": "Julia (10 threads) 1.10.0",
   "language": "julia",
   "name": "julia-_10-threads_-1.10"
  },
  "language_info": {
   "file_extension": ".jl",
   "mimetype": "application/julia",
   "name": "julia",
   "version": "1.10.2"
  }
 },
 "nbformat": 4,
 "nbformat_minor": 5
}
